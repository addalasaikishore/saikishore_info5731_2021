{
  "nbformat": 4,
  "nbformat_minor": 0,
  "metadata": {
    "colab": {
      "name": "INFO5731_Assignment_One-1.ipynb",
      "provenance": [],
      "collapsed_sections": [],
      "include_colab_link": true
    },
    "kernelspec": {
      "display_name": "Python 3",
      "language": "python",
      "name": "python3"
    },
    "language_info": {
      "codemirror_mode": {
        "name": "ipython",
        "version": 3
      },
      "file_extension": ".py",
      "mimetype": "text/x-python",
      "name": "python",
      "nbconvert_exporter": "python",
      "pygments_lexer": "ipython3",
      "version": "3.7.4"
    }
  },
  "cells": [
    {
      "cell_type": "markdown",
      "metadata": {
        "id": "view-in-github",
        "colab_type": "text"
      },
      "source": [
        "<a href=\"https://colab.research.google.com/github/addalasaikishore/saikishore_info5731_2021/blob/main/INFO5731_Assignment_One_1.ipynb\" target=\"_parent\"><img src=\"https://colab.research.google.com/assets/colab-badge.svg\" alt=\"Open In Colab\"/></a>"
      ]
    },
    {
      "cell_type": "markdown",
      "metadata": {
        "id": "Ryk8D1Q4Wsrp"
      },
      "source": [
        "# **INFO5731 Assignment One**"
      ]
    },
    {
      "cell_type": "markdown",
      "metadata": {
        "id": "90_NR8c5XGWc"
      },
      "source": [
        "# Question 1\n",
        "\n",
        "(20 points). Write a Python program to generate 12 random numbers between 1 and 100. Sort the list of numbers in ascending order and print it out. Sort the list of numbers in descending order and print it out. Calculate the average for the group and print it out."
      ]
    },
    {
      "cell_type": "code",
      "metadata": {
        "id": "5QX6bJjGWXY9",
        "colab": {
          "base_uri": "https://localhost:8080/"
        },
        "outputId": "0fa70279-358a-4758-bdc5-8ad428576fc5"
      },
      "source": [
        "# Your code here\n",
        "import random\n",
        "\n",
        "mylist1 = []\n",
        "\n",
        "for i in range(0,12):\n",
        "    x = random.randint(1,100)\n",
        "    mylist1.append(x)\n",
        "    mylist1.sort()\n",
        "\n",
        "print(mylist1)\n",
        "\n",
        "mylist2 = []\n",
        "\n",
        "for i in range(0,12):\n",
        "    x = random.randint(1,100)\n",
        "    mylist2.append(x)\n",
        "    mylist2.sort(reverse = True) \n",
        "    \n",
        "print(mylist2)    \n",
        "\n",
        "res = sum(mylist1 + mylist2) / len(mylist1 + mylist2) \n",
        "  \n",
        "print (\"The Average of both lists is : \" + str(res)) \n",
        "\n",
        "\n",
        "\n"
      ],
      "execution_count": 1,
      "outputs": [
        {
          "output_type": "stream",
          "text": [
            "[3, 5, 16, 18, 19, 35, 39, 44, 83, 88, 93, 99]\n",
            "[100, 96, 83, 80, 77, 51, 23, 18, 17, 12, 6, 5]\n",
            "The Average of both lists is : 46.25\n"
          ],
          "name": "stdout"
        }
      ]
    },
    {
      "cell_type": "markdown",
      "metadata": {
        "id": "1F_PZdH9Sh49"
      },
      "source": [
        "# Question 2\n",
        "(25 points). Write a program that will do the following string formatting tasks:\n",
        "\n",
        "(1) Ask the user to enter two sentences.\n",
        "\n",
        "(2) Make each sentence into a list. Each element in the list should correspond to a word in the sentence. For example, if the sentence is \"Alas! Am I alive? This is my first python program\", the program should print out ['Alas, '!', 'Am', 'I', 'alive, '?', 'This', 'is', 'my', 'first', 'python', 'program'].\n",
        "\n",
        "(3) Compare the two sentences. Print out a list of words that occur in both sentences.\n",
        "\n",
        "(4) Remove any punctuation from the sentence and print it back out. It should remove at least the following characters, but it can remove more: period(“.”), comma (“,”), semicolon (“;”), and colon (“:”)\n",
        "\n",
        "(5) Count the number of vowels in the sentences. Print out each vowel and the number of times it appears in the sentences, such as: a:2, e:1, i:0, etc"
      ]
    },
    {
      "cell_type": "code",
      "metadata": {
        "id": "Y0oOSlsOS0cq",
        "colab": {
          "base_uri": "https://localhost:8080/"
        },
        "outputId": "ab186953-7d54-45e7-b456-b5e3e2983c1b"
      },
      "source": [
        "# Your code here\n",
        "s=input()\n",
        "b=s.split()\n",
        "print(b)\n",
        "k=[]\n",
        "for i in range(0,len(b)):\n",
        "    for j in range(i+1,len(b)):\n",
        "        if b[i]==b[j]:\n",
        "            print(\"common words ::\",b[i])            \n",
        "#Alas ! Am I alive ? This is my first python program\n",
        "b.remove(\"!\")\n",
        "b.remove(\"?\")\n",
        "string=\" \".join(b)\n",
        "print(string)\n",
        "v=\"aeiou\"\n",
        "string=string.casefold()\n",
        "c={}.fromkeys(v,0)\n",
        "for char in string:\n",
        "    if char in c:\n",
        "        c[char]+=1\n",
        "print(c)\n",
        "\n",
        "\n"
      ],
      "execution_count": 2,
      "outputs": [
        {
          "output_type": "stream",
          "text": [
            "\"Alas ! Am I alive ? This is my first python program\"\n",
            "['\"Alas', '!', 'Am', 'I', 'alive', '?', 'This', 'is', 'my', 'first', 'python', 'program\"']\n",
            "\"Alas Am I alive This is my first python program\"\n",
            "{'a': 5, 'e': 1, 'i': 5, 'o': 2, 'u': 0}\n"
          ],
          "name": "stdout"
        }
      ]
    },
    {
      "cell_type": "markdown",
      "metadata": {
        "id": "CmFoI4jDS9nx"
      },
      "source": [
        "# Question 3 \n",
        "\n",
        "(15 points). The formula that describes the volume V of a sphere with radius r is the following:\n",
        "\n",
        "$ V=\\frac{4}{3}\\ast\\ \\pi\\ast\\ r^3 $\n",
        "\n",
        "Write a program to calculate the value of V when r is in the range of 1–10. Output the result in the following format:\n",
        "\n",
        "\tr\tV\n",
        "\t1\t…\n",
        "\t2\t…\n",
        "\t3\t…\n"
      ]
    },
    {
      "cell_type": "code",
      "metadata": {
        "id": "pEyqeioAT95b",
        "colab": {
          "base_uri": "https://localhost:8080/",
          "height": 377
        },
        "outputId": "ae5c5f5f-c2e9-4c48-90a1-0bc79410d1de"
      },
      "source": [
        "# Your code here\n",
        "import numpy as np\n",
        "import math\n",
        "import pandas as pd\n",
        "k=math.pi\n",
        "r=[]\n",
        "v=[]\n",
        "for i in range(1,11):\n",
        "    c=round((4/3)*k*pow(i,3),2)\n",
        "    r.append(i)\n",
        "    v.append(c)\n",
        "df=pd.DataFrame()\n",
        "df[\"r\"]=r\n",
        "df[\"v\"]=v\n",
        "df.set_index(\"r\",inplace=True)\n",
        "df\n",
        "\n",
        "\n"
      ],
      "execution_count": 3,
      "outputs": [
        {
          "output_type": "execute_result",
          "data": {
            "text/html": [
              "<div>\n",
              "<style scoped>\n",
              "    .dataframe tbody tr th:only-of-type {\n",
              "        vertical-align: middle;\n",
              "    }\n",
              "\n",
              "    .dataframe tbody tr th {\n",
              "        vertical-align: top;\n",
              "    }\n",
              "\n",
              "    .dataframe thead th {\n",
              "        text-align: right;\n",
              "    }\n",
              "</style>\n",
              "<table border=\"1\" class=\"dataframe\">\n",
              "  <thead>\n",
              "    <tr style=\"text-align: right;\">\n",
              "      <th></th>\n",
              "      <th>v</th>\n",
              "    </tr>\n",
              "    <tr>\n",
              "      <th>r</th>\n",
              "      <th></th>\n",
              "    </tr>\n",
              "  </thead>\n",
              "  <tbody>\n",
              "    <tr>\n",
              "      <th>1</th>\n",
              "      <td>4.19</td>\n",
              "    </tr>\n",
              "    <tr>\n",
              "      <th>2</th>\n",
              "      <td>33.51</td>\n",
              "    </tr>\n",
              "    <tr>\n",
              "      <th>3</th>\n",
              "      <td>113.10</td>\n",
              "    </tr>\n",
              "    <tr>\n",
              "      <th>4</th>\n",
              "      <td>268.08</td>\n",
              "    </tr>\n",
              "    <tr>\n",
              "      <th>5</th>\n",
              "      <td>523.60</td>\n",
              "    </tr>\n",
              "    <tr>\n",
              "      <th>6</th>\n",
              "      <td>904.78</td>\n",
              "    </tr>\n",
              "    <tr>\n",
              "      <th>7</th>\n",
              "      <td>1436.76</td>\n",
              "    </tr>\n",
              "    <tr>\n",
              "      <th>8</th>\n",
              "      <td>2144.66</td>\n",
              "    </tr>\n",
              "    <tr>\n",
              "      <th>9</th>\n",
              "      <td>3053.63</td>\n",
              "    </tr>\n",
              "    <tr>\n",
              "      <th>10</th>\n",
              "      <td>4188.79</td>\n",
              "    </tr>\n",
              "  </tbody>\n",
              "</table>\n",
              "</div>"
            ],
            "text/plain": [
              "          v\n",
              "r          \n",
              "1      4.19\n",
              "2     33.51\n",
              "3    113.10\n",
              "4    268.08\n",
              "5    523.60\n",
              "6    904.78\n",
              "7   1436.76\n",
              "8   2144.66\n",
              "9   3053.63\n",
              "10  4188.79"
            ]
          },
          "metadata": {
            "tags": []
          },
          "execution_count": 3
        }
      ]
    },
    {
      "cell_type": "code",
      "metadata": {
        "id": "pMCr3l8tnu0j"
      },
      "source": [
        ""
      ],
      "execution_count": null,
      "outputs": []
    },
    {
      "cell_type": "markdown",
      "metadata": {
        "id": "z3tBE7E-Xn5X"
      },
      "source": [
        "# Question 4\n",
        "\n",
        "(40 points). In the field of Data Science, data is often formatted as a comma-delimited (CSV) file, where each line in a file corresponds to a field's value. Refer to Chapter 9 (p. 106) for more information on comma-delimited files. To answer this question, you will need to download the file [Assignment1_denton_housing.csv](https://github.com/unt-iialab/info5731_spring2021/blob/main/assignment/Assignment1_denton_housing.csv) included with this assignment. The file [Assignment1_denton_housing.csv](https://github.com/unt-iialab/info5731_spring2021/blob/main/assignment/Assignment1_denton_housing.csv) contains statistics about housing in the city of Denton from 2008 to 2014. Write a program to implement the following questions.\n",
        "\n",
        "(1) (10 pts) Calculate the difference in the number of Occupied Housing Units from year to year and print it. The difference must be calculated for the consecutive years such as 2008-2009, 2009-2010 etc. Finally, print the values in the ascending order.\n",
        "\n",
        "(2) (10 pts) For all the years, calculate the percentage of housing units which are vacant an occupied. Print the results in the following format:\n",
        "\n",
        "Year Vacant Housing Units Occupied Housing Units\n",
        "\n",
        "    2008  30%   70%                          \n",
        "\t2009 ----- -----\n",
        "\t2010 ----- -----\n",
        "    2011 ----- -----\n",
        "\t2012 ----- -----\n",
        "    2013 ----- -----\n",
        "\t2014 ----- -----\n",
        "  \n",
        "  \n",
        "\n",
        "(3) (10 pts) Calculate and print the valued and years in which the highest number of housing units were vacant and occupied. Print the results in the following format:  \n",
        "\n",
        "                              Year\tValue\n",
        "\tVacant Housing Units\t  -----   -----\n",
        "\tOccupied Housing Units\t-----   -----\n",
        "\n",
        "(4) (10 pts) Calculate the harmonic mean of the total housing units and print it out. You can find the information about harmonic mean here: https://ncalculators.com/statistics/harmonic-mean-calculator.htm"
      ]
    },
    {
      "cell_type": "code",
      "metadata": {
        "id": "lqGYuHBhcsRH"
      },
      "source": [
        "# your code here\n",
        "\n"
      ],
      "execution_count": null,
      "outputs": []
    },
    {
      "cell_type": "code",
      "metadata": {
        "id": "C28lzaTDb15T"
      },
      "source": [
        "import pandas as pd\r\n",
        "import os\r\n",
        "os.listdir()\r\n",
        "df=pd.read_csv(\"hm.csv\")\r\n",
        "df\r\n",
        "df=df.sort_values(by='year',ascending=True)\r\n",
        "df\r\n",
        "c=df.loc[(df[\"title_field\"]==\"Occupied Housing Units\"),[\"title_field\",\"value\",\"year\"]]\r\n",
        "c\r\n",
        "c['dif'] = c['value'].diff()\r\n",
        "#1:difference of occupied housing units in consecutive years\r\n",
        "c=c.sort_values(by=\"year\",ascending=True)\r\n",
        "c\r\n",
        "#3: highest values in vacant and occupied housing units\r\n",
        "s=df.loc[(df[\"title_field\"]==\"Vacant Housing Units\"),[\"title_field\",\"value\",\"year\"]]\r\n",
        "v=df.loc[(df[\"title_field\"]==\"Occupied Housing Units\"),[\"title_field\",\"value\r\n",
        "s\r\n",
        "v\r\n",
        "v_high=s[s[\"value\"]==s[\"value\"].max()]\r\n",
        "h_high=v[v[\"value\"]==v[\"value\"].max()]\r\n",
        "\r\n",
        "v_high=s[s[\"value\"]==s[\"value\"].max()]\r\n",
        "h_high=v[v[\"value\"]==v[\"value\"].max()]\r\n",
        "\r\n",
        "# 4: find harmonic mean of housing units\r\n",
        "THU=df.loc[(df[\"title_field\"]==\"Total Housing Units\"),[\"title_field\",\"value\",\"year\"]]\r\n",
        "THU\r\n",
        "import statistics\r\n",
        "statistics.harmonic_mean(THU[\"value\"])\r\n",
        "\r\n",
        "\r\n"
      ],
      "execution_count": null,
      "outputs": []
    }
  ]
}